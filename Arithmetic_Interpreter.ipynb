{
 "metadata": {
  "language_info": {
   "codemirror_mode": {
    "name": "ipython",
    "version": 3
   },
   "file_extension": ".py",
   "mimetype": "text/x-python",
   "name": "python",
   "nbconvert_exporter": "python",
   "pygments_lexer": "ipython3",
   "version": "3.8.3"
  },
  "orig_nbformat": 2,
  "kernelspec": {
   "name": "python383jvsc74a57bd02db524e06e9f5f4ffedc911c917cb75e12dbc923643829bf417064a77eb14d37",
   "display_name": "Python 3.8.3 64-bit"
  }
 },
 "nbformat": 4,
 "nbformat_minor": 2,
 "cells": [
  {
   "cell_type": "code",
   "execution_count": 34,
   "metadata": {},
   "outputs": [],
   "source": [
    "import math \n",
    "\n",
    "OPERATORS = {'+': (1, lambda x, y: x + y), '-': (1, lambda x, y: x - y),\n",
    "             '*': (2, lambda x, y: x * y), '/': (2, lambda x, y: x / y),\n",
    "             'e': (2, lambda x: math.exp(x)), 'g': (2, lambda x: math.log(x))} #Приоритет и функция вычисления для каждого символа операции\n",
    "\n",
    "#Логарифм, экспонента\n",
    "\n",
    "#Сохраним число из строки в список\n",
    "def Parse(formula):\n",
    "    number = ''\n",
    "    listFormula = []\n",
    "    for char in formula:\n",
    "        if char in '1234567890.':\n",
    "            number = number + char\n",
    "        elif(number):\n",
    "            listFormula.append(number)\n",
    "            number = ''\n",
    "        if char in OPERATORS or char in \"()\":\n",
    "            listFormula.append(char)\n",
    "    if(number):\n",
    "        listFormula.append(number)\n",
    "    return listFormula\n",
    "\n",
    "#Реализуем алгоритм сортировочной станции\n",
    "def ConvertToNPN(listFormula):\n",
    "    stack = []  # списк будет имитировать стек\n",
    "    formulaNPN = [] # тут будет храниться преобразованная запись\n",
    "    for token in listFormula: # рассмотрим каждый символ в строке\n",
    "        if token in OPERATORS: # если он есть в операторах\n",
    "            while(stack and stack[-1] != \"(\" and OPERATORS[token][0] <= OPERATORS[stack[-1]][0]): #будем добавлять в формулу всё, что есть в стеке, пока не наткнёмся\n",
    "                formulaNPN.append(stack.pop()) # на открывающуюся скобочку или пока стек не закончится. Обращаем внимание на приоритет операции\n",
    "            stack.append(token) # Добавляем оператор в стек\n",
    "        elif(token == \")\"): # Если это закрывающаяся скобочка\n",
    "            while(stack): # То пока стек не пустой\n",
    "                x = stack.pop() # Добавляем в формулу всё из стека, пока не наткнёмся на открывающую скобочку\n",
    "                if x == \"(\": # а её из стека убираем\n",
    "                    break\n",
    "                formulaNPN.append(x)\n",
    "        elif token == \"(\": # Если это не оператор и не закрывающаяся скобка, а открывающая скобка, то просто добавим её в стек\n",
    "            stack.append(token)\n",
    "        else:\n",
    "            formulaNPN.append(token) # Если это просто число - то добавим его в формулу\n",
    "    while stack:\n",
    "        formulaNPN.append(stack.pop()) # Теперь всё, что осталось в стеке - нужно добавить в формулу\n",
    "    return formulaNPN \n",
    "\n",
    "#Реализуем алгоритм вычисления\n",
    "def Calculate(formulaNPN):\n",
    "    stack = []\n",
    "    for token in formulaNPN:\n",
    "        if token in OPERATORS: # если это оператор\n",
    "            if token == 'g' or token == 'e':\n",
    "                x = float(stack.pop())\n",
    "                stack.append(OPERATORS[token][1](x))\n",
    "                break\n",
    "            if(len(stack) != 0):\n",
    "                y = float(stack.pop())\n",
    "            else:\n",
    "                y = 0\n",
    "            if(len(stack) != 0):\n",
    "                x = float(stack.pop())\n",
    "            else:\n",
    "                x = 0\n",
    "            stack.append(OPERATORS[token][1](x, y)) #Значение вычисления записываем в стек\n",
    "        else:\n",
    "            stack.append(token) # Если это не оператор, то просто запишем в стек\n",
    "    return stack[0] #первый элемент стека будет храниться в начале стека\n",
    "\n",
    "def Compute(formula):\n",
    "    return(Calculate(ConvertToNPN(Parse(formula))))\n"
   ]
  },
  {
   "cell_type": "code",
   "execution_count": 35,
   "metadata": {},
   "outputs": [
    {
     "output_type": "stream",
     "name": "stdout",
     "text": [
      "['e', '(', '2', ')']\n['2', 'e']\n"
     ]
    }
   ],
   "source": [
    "string = \"exp(2)\"\n",
    "string = Parse(string)\n",
    "print(string)\n",
    "string = ConvertToNPN(string)\n",
    "print(string)"
   ]
  },
  {
   "cell_type": "code",
   "execution_count": 36,
   "metadata": {},
   "outputs": [
    {
     "output_type": "stream",
     "name": "stdout",
     "text": [
      "['2', '2', '*', '3', '5', '-', '+']\n2.0\n"
     ]
    }
   ],
   "source": [
    "string = \"2*2+(3-5)\"\n",
    "string = Parse(string)\n",
    "string = ConvertToNPN(string)\n",
    "print(string)\n",
    "res = Calculate(string)\n",
    "print(res)"
   ]
  },
  {
   "cell_type": "code",
   "execution_count": 37,
   "metadata": {},
   "outputs": [
    {
     "output_type": "execute_result",
     "data": {
      "text/plain": [
       "148.4131591025766"
      ]
     },
     "metadata": {},
     "execution_count": 37
    }
   ],
   "source": [
    "Compute(\"exp(5)\")"
   ]
  },
  {
   "cell_type": "code",
   "execution_count": null,
   "metadata": {},
   "outputs": [],
   "source": []
  },
  {
   "cell_type": "code",
   "execution_count": null,
   "metadata": {},
   "outputs": [],
   "source": []
  }
 ]
}